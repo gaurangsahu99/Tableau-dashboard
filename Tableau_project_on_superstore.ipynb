{
  "cells": [
    {
      "cell_type": "markdown",
      "metadata": {
        "id": "view-in-github",
        "colab_type": "text"
      },
      "source": [
        "<a href=\"https://colab.research.google.com/github/gaurangsahu99/Tableau-dashboard/blob/main/Tableau_project_on_superstore.ipynb\" target=\"_parent\"><img src=\"https://colab.research.google.com/assets/colab-badge.svg\" alt=\"Open In Colab\"/></a>"
      ]
    },
    {
      "cell_type": "markdown",
      "source": [
        "Project Title: Superstore Sales Analysis\n",
        "\n",
        "Project Objective: The objective of this Tableau project is to analyze the sales data of a fictional retail company, the \"Superstore,\" and derive actionable insights. We will explore various aspects of the Superstore's operations, including sales performance, product categories, customer segments, and geographical regions."
      ],
      "metadata": {
        "id": "BpYhrNfp0GA7"
      }
    },
    {
      "cell_type": "markdown",
      "source": [
        "Project Deliverables:\n",
        "\n",
        "1.A series of interactive Tableau dashboards and visualizations.\n",
        "\n",
        "2.Documentation explaining the data sources, data cleaning process, and the rationale behind the visualizations and insights.\n",
        "\n",
        "3.A presentation summarizing the project, key findings, and recommendations."
      ],
      "metadata": {
        "id": "A7foS2PG1RyY"
      }
    },
    {
      "cell_type": "markdown",
      "source": [
        "here is the dashboard link https://public.tableau.com/app/profile/gaurang.sahu/viz/superstoresales_16930666890330/Dashboard5"
      ],
      "metadata": {
        "id": "ZFw4sQoI1bli"
      }
    },
    {
      "cell_type": "markdown",
      "source": [
        "By creating a Tableau project focused on the Superstore dataset, you will not only demonstrate your data analysis and visualization skills but also provide valuable insights that can help the fictional Superstore make informed decisions to optimize its operations and increase profitability. This project can be an excellent addition to your portfolio or a way to showcase your analytics capabilities to stakeholders."
      ],
      "metadata": {
        "id": "KYZDG31V2atf"
      }
    }
  ],
  "metadata": {
    "colab": {
      "provenance": [],
      "include_colab_link": true
    },
    "kernelspec": {
      "display_name": "Python 3",
      "name": "python3"
    }
  },
  "nbformat": 4,
  "nbformat_minor": 0
}